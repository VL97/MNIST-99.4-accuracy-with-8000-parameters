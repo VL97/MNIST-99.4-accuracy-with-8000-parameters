{
 "cells": [
  {
   "cell_type": "code",
   "execution_count": 1,
   "metadata": {
    "colab": {
     "base_uri": "https://localhost:8080/",
     "height": 34
    },
    "colab_type": "code",
    "id": "JqwvMjTzRQaN",
    "outputId": "482df424-2308-483a-dbeb-a29ac71b86c2"
   },
   "outputs": [
    {
     "name": "stdout",
     "output_type": "stream",
     "text": [
      "1.15.0\n"
     ]
    }
   ],
   "source": [
    "%tensorflow_version 1.x\n",
    "import tensorflow as tf\n",
    "print(tf.__version__)"
   ]
  },
  {
   "cell_type": "code",
   "execution_count": 2,
   "metadata": {
    "colab": {
     "base_uri": "https://localhost:8080/",
     "height": 34
    },
    "colab_type": "code",
    "id": "IkqRKgAYAUj2",
    "outputId": "1ef9e2c7-265a-4a63-f8f7-4c8c759ea65b"
   },
   "outputs": [
    {
     "name": "stderr",
     "output_type": "stream",
     "text": [
      "Using TensorFlow backend.\n"
     ]
    }
   ],
   "source": [
    "from __future__ import print_function\n",
    "import keras\n",
    "from keras.datasets import mnist\n",
    "from keras.models import Sequential\n",
    "from keras.layers import Dense, Dropout, Flatten\n",
    "from keras.layers import Conv2D, MaxPooling2D\n",
    "from keras.preprocessing.image import ImageDataGenerator\n",
    "from keras import backend as K\n",
    "import numpy as np\n",
    "\n",
    "batch_size = 64\n",
    "num_classes = 10\n",
    "epochs = 100\n",
    "target_val_acc=0.9940"
   ]
  },
  {
   "cell_type": "code",
   "execution_count": 0,
   "metadata": {
    "colab": {},
    "colab_type": "code",
    "id": "d9l8TI5bAZd8"
   },
   "outputs": [],
   "source": [
    "# input image dimensions.\n",
    "img_rows, img_cols = 28, 28\n",
    "\n",
    "# The data, split between train and test sets.\n",
    "(x_train, y_train), (x_test, y_test) = mnist.load_data()\n",
    "\n",
    "if K.image_data_format() == 'channels_first':\n",
    "    x_train = x_train.reshape(x_train.shape[0], 1, img_rows, img_cols)\n",
    "    x_test = x_test.reshape(x_test.shape[0], 1, img_rows, img_cols)\n",
    "    input_shape = (1, img_rows, img_cols)\n",
    "else:\n",
    "    x_train = x_train.reshape(x_train.shape[0], img_rows, img_cols, 1)\n",
    "    x_test = x_test.reshape(x_test.shape[0], img_rows, img_cols, 1)\n",
    "    input_shape = (img_rows, img_cols, 1)"
   ]
  },
  {
   "cell_type": "code",
   "execution_count": 4,
   "metadata": {
    "colab": {
     "base_uri": "https://localhost:8080/",
     "height": 85
    },
    "colab_type": "code",
    "id": "cCaI1817AiKJ",
    "outputId": "4c99873c-78e9-437a-f3cb-4d49a6307979"
   },
   "outputs": [
    {
     "name": "stdout",
     "output_type": "stream",
     "text": [
      "Original dataset:\n",
      "x_train shape: (60000, 28, 28, 1)\n",
      "60000 train samples\n",
      "10000 test samples\n"
     ]
    }
   ],
   "source": [
    "#Normalization.\n",
    "x_train = x_train.astype('float32')\n",
    "x_test = x_test.astype('float32')\n",
    "x_train /= 255\n",
    "x_test /= 255\n",
    "print('Original dataset:')\n",
    "print('x_train shape:', x_train.shape)\n",
    "print(x_train.shape[0], 'train samples')\n",
    "print(x_test.shape[0], 'test samples')"
   ]
  },
  {
   "cell_type": "code",
   "execution_count": 5,
   "metadata": {
    "colab": {
     "base_uri": "https://localhost:8080/",
     "height": 68
    },
    "colab_type": "code",
    "id": "U8bgOtwrAlkc",
    "outputId": "fc27e392-26c1-43c6-d1bf-78e0129b6ce4"
   },
   "outputs": [
    {
     "name": "stdout",
     "output_type": "stream",
     "text": [
      "Pre-processing images for data augmentation...Wait a minute...\n",
      "Done adding!\n",
      "Total train images post data augmentation:  119968\n"
     ]
    }
   ],
   "source": [
    "#Generates augmented images from the x_train images \n",
    "#array (and uses corresponding y_train labels ofc).\n",
    "datagen = ImageDataGenerator(rotation_range=20,\n",
    "                            width_shift_range=0.10,\n",
    "                            height_shift_range=0.10,\n",
    "                            zoom_range=[0.8, 1.2],\n",
    "                            shear_range=0.2)\n",
    "\n",
    "train_gen = datagen.flow(x_train, y_train, batch_size=batch_size, shuffle=True)\n",
    "\n",
    "#Appends augmented images to the original x_train and y_train arrays.\n",
    "\n",
    "deg=1            #deg controls the extent of the augmentation. 1 indicates\n",
    "                 #whole 60k images will be yielded in batches and used for\n",
    "                 #training hence increasing train set to ~120k images.\n",
    "\n",
    "print(\"Pre-processing images for data augmentation...Wait a minute...\")\n",
    "iterate=(int)((60000/batch_size)*deg)\n",
    "for i in range(0,iterate):\n",
    "    ret=train_gen.next()  \n",
    "    x_train=np.append(x_train,ret[0],axis=0)\n",
    "    y_train=np.append(y_train,ret[1])\n",
    "print(\"Done adding!\")\n",
    "print(\"Total train images post data augmentation: \",x_train.shape[0])"
   ]
  },
  {
   "cell_type": "code",
   "execution_count": 0,
   "metadata": {
    "colab": {},
    "colab_type": "code",
    "id": "3BpoweYtCEc-"
   },
   "outputs": [],
   "source": [
    "#Convert labels to one-hot\n",
    "y_train = keras.utils.to_categorical(y_train, num_classes)\n",
    "y_test = keras.utils.to_categorical(y_test, num_classes)"
   ]
  },
  {
   "cell_type": "code",
   "execution_count": 0,
   "metadata": {
    "colab": {},
    "colab_type": "code",
    "id": "ZGZ2wj1nCJgc"
   },
   "outputs": [],
   "source": [
    "def scheduler(epoch, lr):\n",
    "  if epoch < 40:\n",
    "    return 0.001\n",
    "  else:\n",
    "    return 0.001 * np.exp(0.1 * (40 - epoch))\n",
    "\n",
    "#Callback for lr updation and stop training \n",
    "class myCallback(keras.callbacks.LearningRateScheduler):\n",
    "    def __init__(self, schedule, val_target):\n",
    "        super(myCallback, self).__init__(schedule)     \n",
    "        self.val_target=val_target\n",
    "\n",
    "    def on_epoch_end(self, epoch, logs={}):\n",
    "        if logs.get('val_acc')>=self.val_target:\n",
    "            self.model.stop_training = True\n",
    "            print('Stopped training as target val_acc reached!')\n",
    "        else:\n",
    "            lr_=float(keras.backend.get_value(self.model.optimizer.lr))\n",
    "            print('lr: ','{:.8f}'.format(lr_))    \n",
    "    \n",
    "callback0 = myCallback(scheduler,target_val_acc)"
   ]
  },
  {
   "cell_type": "code",
   "execution_count": 8,
   "metadata": {
    "colab": {
     "base_uri": "https://localhost:8080/",
     "height": 1000
    },
    "colab_type": "code",
    "id": "I2pCOV9pCNm3",
    "outputId": "d9347802-c001-4d3d-cea9-f7cd8256e5c4"
   },
   "outputs": [
    {
     "name": "stdout",
     "output_type": "stream",
     "text": [
      "WARNING:tensorflow:From /usr/local/lib/python3.6/dist-packages/keras/backend/tensorflow_backend.py:66: The name tf.get_default_graph is deprecated. Please use tf.compat.v1.get_default_graph instead.\n",
      "\n",
      "WARNING:tensorflow:From /usr/local/lib/python3.6/dist-packages/keras/backend/tensorflow_backend.py:541: The name tf.placeholder is deprecated. Please use tf.compat.v1.placeholder instead.\n",
      "\n",
      "WARNING:tensorflow:From /usr/local/lib/python3.6/dist-packages/keras/backend/tensorflow_backend.py:4432: The name tf.random_uniform is deprecated. Please use tf.random.uniform instead.\n",
      "\n",
      "WARNING:tensorflow:From /usr/local/lib/python3.6/dist-packages/keras/backend/tensorflow_backend.py:148: The name tf.placeholder_with_default is deprecated. Please use tf.compat.v1.placeholder_with_default instead.\n",
      "\n",
      "WARNING:tensorflow:From /usr/local/lib/python3.6/dist-packages/keras/backend/tensorflow_backend.py:3733: calling dropout (from tensorflow.python.ops.nn_ops) with keep_prob is deprecated and will be removed in a future version.\n",
      "Instructions for updating:\n",
      "Please use `rate` instead of `keep_prob`. Rate should be set to `rate = 1 - keep_prob`.\n",
      "WARNING:tensorflow:From /usr/local/lib/python3.6/dist-packages/keras/backend/tensorflow_backend.py:4267: The name tf.nn.max_pool is deprecated. Please use tf.nn.max_pool2d instead.\n",
      "\n",
      "WARNING:tensorflow:From /usr/local/lib/python3.6/dist-packages/keras/optimizers.py:793: The name tf.train.Optimizer is deprecated. Please use tf.compat.v1.train.Optimizer instead.\n",
      "\n",
      "WARNING:tensorflow:From /usr/local/lib/python3.6/dist-packages/keras/backend/tensorflow_backend.py:3576: The name tf.log is deprecated. Please use tf.math.log instead.\n",
      "\n",
      "Model: \"sequential_1\"\n",
      "_________________________________________________________________\n",
      "Layer (type)                 Output Shape              Param #   \n",
      "=================================================================\n",
      "conv2d_1 (Conv2D)            (None, 26, 26, 8)         80        \n",
      "_________________________________________________________________\n",
      "conv2d_2 (Conv2D)            (None, 24, 24, 8)         584       \n",
      "_________________________________________________________________\n",
      "conv2d_3 (Conv2D)            (None, 22, 22, 8)         584       \n",
      "_________________________________________________________________\n",
      "dropout_1 (Dropout)          (None, 22, 22, 8)         0         \n",
      "_________________________________________________________________\n",
      "max_pooling2d_1 (MaxPooling2 (None, 11, 11, 8)         0         \n",
      "_________________________________________________________________\n",
      "conv2d_4 (Conv2D)            (None, 9, 9, 14)          1022      \n",
      "_________________________________________________________________\n",
      "conv2d_5 (Conv2D)            (None, 7, 7, 14)          1778      \n",
      "_________________________________________________________________\n",
      "conv2d_6 (Conv2D)            (None, 5, 5, 14)          1778      \n",
      "_________________________________________________________________\n",
      "dropout_2 (Dropout)          (None, 5, 5, 14)          0         \n",
      "_________________________________________________________________\n",
      "max_pooling2d_2 (MaxPooling2 (None, 2, 2, 14)          0         \n",
      "_________________________________________________________________\n",
      "flatten_1 (Flatten)          (None, 56)                0         \n",
      "_________________________________________________________________\n",
      "dense_1 (Dense)              (None, 32)                1824      \n",
      "_________________________________________________________________\n",
      "dropout_3 (Dropout)          (None, 32)                0         \n",
      "_________________________________________________________________\n",
      "dense_2 (Dense)              (None, 10)                330       \n",
      "=================================================================\n",
      "Total params: 7,980\n",
      "Trainable params: 7,980\n",
      "Non-trainable params: 0\n",
      "_________________________________________________________________\n",
      "WARNING:tensorflow:From /tensorflow-1.15.0/python3.6/tensorflow_core/python/ops/math_grad.py:1424: where (from tensorflow.python.ops.array_ops) is deprecated and will be removed in a future version.\n",
      "Instructions for updating:\n",
      "Use tf.where in 2.0, which has the same broadcast rule as np.where\n",
      "WARNING:tensorflow:From /usr/local/lib/python3.6/dist-packages/keras/backend/tensorflow_backend.py:1033: The name tf.assign_add is deprecated. Please use tf.compat.v1.assign_add instead.\n",
      "\n",
      "WARNING:tensorflow:From /usr/local/lib/python3.6/dist-packages/keras/backend/tensorflow_backend.py:1020: The name tf.assign is deprecated. Please use tf.compat.v1.assign instead.\n",
      "\n",
      "WARNING:tensorflow:From /usr/local/lib/python3.6/dist-packages/keras/backend/tensorflow_backend.py:3005: The name tf.Session is deprecated. Please use tf.compat.v1.Session instead.\n",
      "\n",
      "Train on 119968 samples, validate on 10000 samples\n",
      "Epoch 1/100\n",
      "WARNING:tensorflow:From /usr/local/lib/python3.6/dist-packages/keras/backend/tensorflow_backend.py:190: The name tf.get_default_session is deprecated. Please use tf.compat.v1.get_default_session instead.\n",
      "\n",
      "WARNING:tensorflow:From /usr/local/lib/python3.6/dist-packages/keras/backend/tensorflow_backend.py:197: The name tf.ConfigProto is deprecated. Please use tf.compat.v1.ConfigProto instead.\n",
      "\n",
      "WARNING:tensorflow:From /usr/local/lib/python3.6/dist-packages/keras/backend/tensorflow_backend.py:207: The name tf.global_variables is deprecated. Please use tf.compat.v1.global_variables instead.\n",
      "\n",
      "WARNING:tensorflow:From /usr/local/lib/python3.6/dist-packages/keras/backend/tensorflow_backend.py:216: The name tf.is_variable_initialized is deprecated. Please use tf.compat.v1.is_variable_initialized instead.\n",
      "\n",
      "WARNING:tensorflow:From /usr/local/lib/python3.6/dist-packages/keras/backend/tensorflow_backend.py:223: The name tf.variables_initializer is deprecated. Please use tf.compat.v1.variables_initializer instead.\n",
      "\n",
      "119968/119968 [==============================] - 15s 129us/step - loss: 0.8145 - acc: 0.7351 - val_loss: 0.2489 - val_acc: 0.9657\n",
      "lr:  0.00100000\n",
      "Epoch 2/100\n",
      "119968/119968 [==============================] - 12s 99us/step - loss: 0.3484 - acc: 0.8982 - val_loss: 0.1252 - val_acc: 0.9786\n",
      "lr:  0.00100000\n",
      "Epoch 3/100\n",
      "119968/119968 [==============================] - 12s 99us/step - loss: 0.2669 - acc: 0.9245 - val_loss: 0.1213 - val_acc: 0.9782\n",
      "lr:  0.00100000\n",
      "Epoch 4/100\n",
      "119968/119968 [==============================] - 12s 99us/step - loss: 0.2220 - acc: 0.9373 - val_loss: 0.0666 - val_acc: 0.9864\n",
      "lr:  0.00100000\n",
      "Epoch 5/100\n",
      "119968/119968 [==============================] - 12s 99us/step - loss: 0.1966 - acc: 0.9454 - val_loss: 0.0908 - val_acc: 0.9832\n",
      "lr:  0.00100000\n",
      "Epoch 6/100\n",
      "119968/119968 [==============================] - 12s 100us/step - loss: 0.1801 - acc: 0.9500 - val_loss: 0.0649 - val_acc: 0.9865\n",
      "lr:  0.00100000\n",
      "Epoch 7/100\n",
      "119968/119968 [==============================] - 12s 99us/step - loss: 0.1677 - acc: 0.9538 - val_loss: 0.0615 - val_acc: 0.9872\n",
      "lr:  0.00100000\n",
      "Epoch 8/100\n",
      "119968/119968 [==============================] - 12s 99us/step - loss: 0.1575 - acc: 0.9558 - val_loss: 0.0858 - val_acc: 0.9818\n",
      "lr:  0.00100000\n",
      "Epoch 9/100\n",
      "119968/119968 [==============================] - 12s 98us/step - loss: 0.1499 - acc: 0.9590 - val_loss: 0.0543 - val_acc: 0.9893\n",
      "lr:  0.00100000\n",
      "Epoch 10/100\n",
      "119968/119968 [==============================] - 12s 99us/step - loss: 0.1441 - acc: 0.9608 - val_loss: 0.0744 - val_acc: 0.9805\n",
      "lr:  0.00100000\n",
      "Epoch 11/100\n",
      "119968/119968 [==============================] - 12s 100us/step - loss: 0.1409 - acc: 0.9625 - val_loss: 0.0562 - val_acc: 0.9877\n",
      "lr:  0.00100000\n",
      "Epoch 12/100\n",
      "119968/119968 [==============================] - 12s 100us/step - loss: 0.1346 - acc: 0.9632 - val_loss: 0.0526 - val_acc: 0.9884\n",
      "lr:  0.00100000\n",
      "Epoch 13/100\n",
      "119968/119968 [==============================] - 12s 100us/step - loss: 0.1311 - acc: 0.9642 - val_loss: 0.0431 - val_acc: 0.9901\n",
      "lr:  0.00100000\n",
      "Epoch 14/100\n",
      "119968/119968 [==============================] - 12s 97us/step - loss: 0.1263 - acc: 0.9651 - val_loss: 0.0488 - val_acc: 0.9887\n",
      "lr:  0.00100000\n",
      "Epoch 15/100\n",
      "119968/119968 [==============================] - 12s 98us/step - loss: 0.1251 - acc: 0.9662 - val_loss: 0.0395 - val_acc: 0.9891\n",
      "lr:  0.00100000\n",
      "Epoch 16/100\n",
      "119968/119968 [==============================] - 12s 99us/step - loss: 0.1215 - acc: 0.9672 - val_loss: 0.0516 - val_acc: 0.9874\n",
      "lr:  0.00100000\n",
      "Epoch 17/100\n",
      "119968/119968 [==============================] - 12s 99us/step - loss: 0.1197 - acc: 0.9672 - val_loss: 0.0422 - val_acc: 0.9889\n",
      "lr:  0.00100000\n",
      "Epoch 18/100\n",
      "119968/119968 [==============================] - 12s 99us/step - loss: 0.1184 - acc: 0.9674 - val_loss: 0.0481 - val_acc: 0.9909\n",
      "lr:  0.00100000\n",
      "Epoch 19/100\n",
      "119968/119968 [==============================] - 12s 101us/step - loss: 0.1147 - acc: 0.9687 - val_loss: 0.0508 - val_acc: 0.9878\n",
      "lr:  0.00100000\n",
      "Epoch 20/100\n",
      "119968/119968 [==============================] - 12s 101us/step - loss: 0.1171 - acc: 0.9677 - val_loss: 0.0366 - val_acc: 0.9907\n",
      "lr:  0.00100000\n",
      "Epoch 21/100\n",
      "119968/119968 [==============================] - 13s 105us/step - loss: 0.1141 - acc: 0.9694 - val_loss: 0.0358 - val_acc: 0.9901\n",
      "lr:  0.00100000\n",
      "Epoch 22/100\n",
      "119968/119968 [==============================] - 12s 102us/step - loss: 0.1110 - acc: 0.9694 - val_loss: 0.0331 - val_acc: 0.9915\n",
      "lr:  0.00100000\n",
      "Epoch 23/100\n",
      "119968/119968 [==============================] - 12s 100us/step - loss: 0.1100 - acc: 0.9697 - val_loss: 0.0344 - val_acc: 0.9906\n",
      "lr:  0.00100000\n",
      "Epoch 24/100\n",
      "119968/119968 [==============================] - 12s 101us/step - loss: 0.1115 - acc: 0.9693 - val_loss: 0.0383 - val_acc: 0.9903\n",
      "lr:  0.00100000\n",
      "Epoch 25/100\n",
      "119968/119968 [==============================] - 12s 101us/step - loss: 0.1100 - acc: 0.9693 - val_loss: 0.0344 - val_acc: 0.9908\n",
      "lr:  0.00100000\n",
      "Epoch 26/100\n",
      "119968/119968 [==============================] - 12s 100us/step - loss: 0.1072 - acc: 0.9706 - val_loss: 0.0340 - val_acc: 0.9900\n",
      "lr:  0.00100000\n",
      "Epoch 27/100\n",
      "119968/119968 [==============================] - 12s 100us/step - loss: 0.1076 - acc: 0.9706 - val_loss: 0.0363 - val_acc: 0.9910\n",
      "lr:  0.00100000\n",
      "Epoch 28/100\n",
      "119968/119968 [==============================] - 12s 98us/step - loss: 0.1054 - acc: 0.9714 - val_loss: 0.0423 - val_acc: 0.9896\n",
      "lr:  0.00100000\n",
      "Epoch 29/100\n",
      "119968/119968 [==============================] - 12s 99us/step - loss: 0.1067 - acc: 0.9706 - val_loss: 0.0366 - val_acc: 0.9915\n",
      "lr:  0.00100000\n",
      "Epoch 30/100\n",
      "119968/119968 [==============================] - 12s 98us/step - loss: 0.1006 - acc: 0.9722 - val_loss: 0.0316 - val_acc: 0.9902\n",
      "lr:  0.00100000\n",
      "Epoch 31/100\n",
      "119968/119968 [==============================] - 12s 100us/step - loss: 0.1030 - acc: 0.9724 - val_loss: 0.0369 - val_acc: 0.9912\n",
      "lr:  0.00100000\n",
      "Epoch 32/100\n",
      "119968/119968 [==============================] - 12s 99us/step - loss: 0.1034 - acc: 0.9721 - val_loss: 0.0298 - val_acc: 0.9924\n",
      "lr:  0.00100000\n",
      "Epoch 33/100\n",
      "119968/119968 [==============================] - 12s 100us/step - loss: 0.1010 - acc: 0.9731 - val_loss: 0.0370 - val_acc: 0.9905\n",
      "lr:  0.00100000\n",
      "Epoch 34/100\n",
      "119968/119968 [==============================] - 12s 99us/step - loss: 0.1005 - acc: 0.9727 - val_loss: 0.0390 - val_acc: 0.9887\n",
      "lr:  0.00100000\n",
      "Epoch 35/100\n",
      "119968/119968 [==============================] - 12s 99us/step - loss: 0.0981 - acc: 0.9728 - val_loss: 0.0296 - val_acc: 0.9927\n",
      "lr:  0.00100000\n",
      "Epoch 36/100\n",
      "119968/119968 [==============================] - 12s 98us/step - loss: 0.0980 - acc: 0.9734 - val_loss: 0.0347 - val_acc: 0.9912\n",
      "lr:  0.00100000\n",
      "Epoch 37/100\n",
      "119968/119968 [==============================] - 12s 101us/step - loss: 0.0981 - acc: 0.9730 - val_loss: 0.0356 - val_acc: 0.9900\n",
      "lr:  0.00100000\n",
      "Epoch 38/100\n",
      "119968/119968 [==============================] - 12s 99us/step - loss: 0.0978 - acc: 0.9737 - val_loss: 0.0366 - val_acc: 0.9910\n",
      "lr:  0.00100000\n",
      "Epoch 39/100\n",
      "119968/119968 [==============================] - 12s 99us/step - loss: 0.0953 - acc: 0.9738 - val_loss: 0.0290 - val_acc: 0.9923\n",
      "lr:  0.00100000\n",
      "Epoch 40/100\n",
      "119968/119968 [==============================] - 12s 101us/step - loss: 0.0963 - acc: 0.9735 - val_loss: 0.0341 - val_acc: 0.9916\n",
      "lr:  0.00100000\n",
      "Epoch 41/100\n",
      "119968/119968 [==============================] - 12s 99us/step - loss: 0.0954 - acc: 0.9737 - val_loss: 0.0321 - val_acc: 0.9917\n",
      "lr:  0.00100000\n",
      "Epoch 42/100\n",
      "119968/119968 [==============================] - 12s 99us/step - loss: 0.0934 - acc: 0.9741 - val_loss: 0.0329 - val_acc: 0.9902\n",
      "lr:  0.00090484\n",
      "Epoch 43/100\n",
      "119968/119968 [==============================] - 12s 100us/step - loss: 0.0905 - acc: 0.9760 - val_loss: 0.0382 - val_acc: 0.9897\n",
      "lr:  0.00081873\n",
      "Epoch 44/100\n",
      "119968/119968 [==============================] - 12s 99us/step - loss: 0.0870 - acc: 0.9761 - val_loss: 0.0306 - val_acc: 0.9925\n",
      "lr:  0.00074082\n",
      "Epoch 45/100\n",
      "119968/119968 [==============================] - 12s 99us/step - loss: 0.0840 - acc: 0.9766 - val_loss: 0.0290 - val_acc: 0.9920\n",
      "lr:  0.00067032\n",
      "Epoch 46/100\n",
      "119968/119968 [==============================] - 12s 101us/step - loss: 0.0813 - acc: 0.9769 - val_loss: 0.0280 - val_acc: 0.9919\n",
      "lr:  0.00060653\n",
      "Epoch 47/100\n",
      "119968/119968 [==============================] - 13s 104us/step - loss: 0.0821 - acc: 0.9773 - val_loss: 0.0258 - val_acc: 0.9929\n",
      "lr:  0.00054881\n",
      "Epoch 48/100\n",
      "119968/119968 [==============================] - 12s 99us/step - loss: 0.0776 - acc: 0.9784 - val_loss: 0.0267 - val_acc: 0.9932\n",
      "lr:  0.00049659\n",
      "Epoch 49/100\n",
      "119968/119968 [==============================] - 12s 98us/step - loss: 0.0768 - acc: 0.9787 - val_loss: 0.0293 - val_acc: 0.9920\n",
      "lr:  0.00044933\n",
      "Epoch 50/100\n",
      "119968/119968 [==============================] - 12s 97us/step - loss: 0.0765 - acc: 0.9790 - val_loss: 0.0252 - val_acc: 0.9933\n",
      "lr:  0.00040657\n",
      "Epoch 51/100\n",
      "119968/119968 [==============================] - 12s 98us/step - loss: 0.0726 - acc: 0.9800 - val_loss: 0.0266 - val_acc: 0.9925\n",
      "lr:  0.00036788\n",
      "Epoch 52/100\n",
      "119968/119968 [==============================] - 12s 98us/step - loss: 0.0734 - acc: 0.9804 - val_loss: 0.0263 - val_acc: 0.9925\n",
      "lr:  0.00033287\n",
      "Epoch 53/100\n",
      "119968/119968 [==============================] - 12s 99us/step - loss: 0.0727 - acc: 0.9806 - val_loss: 0.0253 - val_acc: 0.9932\n",
      "lr:  0.00030119\n",
      "Epoch 54/100\n",
      "119968/119968 [==============================] - 12s 98us/step - loss: 0.0696 - acc: 0.9807 - val_loss: 0.0275 - val_acc: 0.9924\n",
      "lr:  0.00027253\n",
      "Epoch 55/100\n",
      "119968/119968 [==============================] - 12s 97us/step - loss: 0.0695 - acc: 0.9810 - val_loss: 0.0236 - val_acc: 0.9932\n",
      "lr:  0.00024660\n",
      "Epoch 56/100\n",
      "119968/119968 [==============================] - 12s 98us/step - loss: 0.0677 - acc: 0.9812 - val_loss: 0.0238 - val_acc: 0.9936\n",
      "lr:  0.00022313\n",
      "Epoch 57/100\n",
      "119968/119968 [==============================] - 12s 97us/step - loss: 0.0666 - acc: 0.9819 - val_loss: 0.0224 - val_acc: 0.9942\n",
      "Stopped training as target val_acc reached!\n"
     ]
    },
    {
     "data": {
      "text/plain": [
       "<keras.callbacks.History at 0x7fdcc6c40e48>"
      ]
     },
     "execution_count": 8,
     "metadata": {
      "tags": []
     },
     "output_type": "execute_result"
    }
   ],
   "source": [
    "#Model\n",
    "model = Sequential()\n",
    "\n",
    "model.add(Conv2D(8, kernel_size=(3, 3),activation='relu', input_shape=input_shape))\n",
    "model.add(Conv2D(8, (3, 3), activation='relu'))\n",
    "model.add(Conv2D(8, (3, 3), activation='relu'))\n",
    "model.add(Dropout(0.4))\n",
    "model.add(MaxPooling2D(pool_size=(2, 2)))\n",
    "\n",
    "model.add(Conv2D(14, (3, 3),activation='relu'))\n",
    "model.add(Conv2D(14, (3, 3), activation='relu'))\n",
    "model.add(Conv2D(14, (3, 3), activation='relu'))\n",
    "model.add(Dropout(0.4))\n",
    "model.add(MaxPooling2D(pool_size=(2, 2)))\n",
    "\n",
    "model.add(Flatten())\n",
    "model.add(Dense(32, activation='relu'))\n",
    "model.add(Dropout(0.4))\n",
    "model.add(Dense(num_classes, activation='softmax'))\n",
    "\n",
    "model.compile(loss=keras.losses.categorical_crossentropy,\n",
    "              optimizer=keras.optimizers.Adam(),\n",
    "              metrics=['accuracy'])\n",
    "\n",
    "model.summary()\n",
    "\n",
    "#Training\n",
    "model.fit(x_train, y_train,\n",
    "          batch_size=batch_size,\n",
    "          epochs=epochs,\n",
    "          verbose=1,\n",
    "          validation_data=(x_test, y_test),\n",
    "          callbacks=[callback0])"
   ]
  },
  {
   "cell_type": "code",
   "execution_count": 9,
   "metadata": {
    "colab": {
     "base_uri": "https://localhost:8080/",
     "height": 51
    },
    "colab_type": "code",
    "id": "KmiWss7cCTV_",
    "outputId": "4ca779d6-4a88-4903-d63e-4d0614a513c8"
   },
   "outputs": [
    {
     "name": "stdout",
     "output_type": "stream",
     "text": [
      "Test loss: 0.0224024444648996\n",
      "Test accuracy: 0.9942\n"
     ]
    }
   ],
   "source": [
    "#validation Testing\n",
    "score = model.evaluate(x_test, y_test, verbose=0)\n",
    "print('Test loss:', score[0])\n",
    "print('Test accuracy:', score[1])"
   ]
  }
 ],
 "metadata": {
  "accelerator": "GPU",
  "colab": {
   "collapsed_sections": [],
   "name": "FinalApply.ipynb",
   "provenance": []
  },
  "kernelspec": {
   "display_name": "Python 3",
   "language": "python",
   "name": "python3"
  },
  "language_info": {
   "codemirror_mode": {
    "name": "ipython",
    "version": 3
   },
   "file_extension": ".py",
   "mimetype": "text/x-python",
   "name": "python",
   "nbconvert_exporter": "python",
   "pygments_lexer": "ipython3",
   "version": "3.7.3"
  }
 },
 "nbformat": 4,
 "nbformat_minor": 1
}
